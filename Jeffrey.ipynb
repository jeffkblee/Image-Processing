{
  "nbformat": 4,
  "nbformat_minor": 0,
  "metadata": {
    "colab": {
      "name": "Jeffrey.ipynb",
      "provenance": [],
      "include_colab_link": true
    },
    "kernelspec": {
      "name": "python3",
      "display_name": "Python 3"
    },
    "language_info": {
      "name": "python"
    }
  },
  "cells": [
    {
      "cell_type": "markdown",
      "metadata": {
        "id": "view-in-github",
        "colab_type": "text"
      },
      "source": [
        "<a href=\"https://colab.research.google.com/github/jeffkblee/Image-Processing/blob/main/Jeffrey.ipynb\" target=\"_parent\"><img src=\"https://colab.research.google.com/assets/colab-badge.svg\" alt=\"Open In Colab\"/></a>"
      ]
    },
    {
      "cell_type": "code",
      "execution_count": 1,
      "metadata": {
        "colab": {
          "base_uri": "https://localhost:8080/"
        },
        "id": "V5G24pu_Lbjs",
        "outputId": "86877992-fda8-4d09-a8cb-de12adc60ca7"
      },
      "outputs": [
        {
          "output_type": "stream",
          "name": "stdout",
          "text": [
            "Looking in indexes: https://pypi.org/simple, https://us-python.pkg.dev/colab-wheels/public/simple/\n",
            "Collecting git+https://github.com/DODAS-TS/boto3sts\n",
            "  Cloning https://github.com/DODAS-TS/boto3sts to /tmp/pip-req-build-8xczrks4\n",
            "  Running command git clone -q https://github.com/DODAS-TS/boto3sts /tmp/pip-req-build-8xczrks4\n",
            "Collecting boto3\n",
            "  Downloading boto3-1.24.18-py3-none-any.whl (132 kB)\n",
            "\u001b[K     |████████████████████████████████| 132 kB 9.1 MB/s \n",
            "\u001b[?25hRequirement already satisfied: requests in /usr/local/lib/python3.7/dist-packages (from boto3sts==0.0.8) (2.23.0)\n",
            "Collecting xmltodict\n",
            "  Downloading xmltodict-0.13.0-py2.py3-none-any.whl (10.0 kB)\n",
            "Collecting liboidcagent\n",
            "  Downloading liboidcagent-0.4.0-py3-none-any.whl (5.4 kB)\n",
            "Requirement already satisfied: future in /usr/local/lib/python3.7/dist-packages (from boto3sts==0.0.8) (0.16.0)\n",
            "Collecting jmespath<2.0.0,>=0.7.1\n",
            "  Downloading jmespath-1.0.1-py3-none-any.whl (20 kB)\n",
            "Collecting botocore<1.28.0,>=1.27.18\n",
            "  Downloading botocore-1.27.18-py3-none-any.whl (8.9 MB)\n",
            "\u001b[K     |████████████████████████████████| 8.9 MB 19.4 MB/s \n",
            "\u001b[?25hCollecting s3transfer<0.7.0,>=0.6.0\n",
            "  Downloading s3transfer-0.6.0-py3-none-any.whl (79 kB)\n",
            "\u001b[K     |████████████████████████████████| 79 kB 4.3 MB/s \n",
            "\u001b[?25hCollecting urllib3<1.27,>=1.25.4\n",
            "  Downloading urllib3-1.26.9-py2.py3-none-any.whl (138 kB)\n",
            "\u001b[K     |████████████████████████████████| 138 kB 36.0 MB/s \n",
            "\u001b[?25hRequirement already satisfied: python-dateutil<3.0.0,>=2.1 in /usr/local/lib/python3.7/dist-packages (from botocore<1.28.0,>=1.27.18->boto3->boto3sts==0.0.8) (2.8.2)\n",
            "Requirement already satisfied: six>=1.5 in /usr/local/lib/python3.7/dist-packages (from python-dateutil<3.0.0,>=2.1->botocore<1.28.0,>=1.27.18->boto3->boto3sts==0.0.8) (1.15.0)\n",
            "Collecting PyNaCl>=1.2.0\n",
            "  Downloading PyNaCl-1.5.0-cp36-abi3-manylinux_2_17_x86_64.manylinux2014_x86_64.manylinux_2_24_x86_64.whl (856 kB)\n",
            "\u001b[K     |████████████████████████████████| 856 kB 37.6 MB/s \n",
            "\u001b[?25hRequirement already satisfied: cffi>=1.4.1 in /usr/local/lib/python3.7/dist-packages (from PyNaCl>=1.2.0->liboidcagent->boto3sts==0.0.8) (1.15.0)\n",
            "Requirement already satisfied: pycparser in /usr/local/lib/python3.7/dist-packages (from cffi>=1.4.1->PyNaCl>=1.2.0->liboidcagent->boto3sts==0.0.8) (2.21)\n",
            "Collecting urllib3<1.27,>=1.25.4\n",
            "  Downloading urllib3-1.25.11-py2.py3-none-any.whl (127 kB)\n",
            "\u001b[K     |████████████████████████████████| 127 kB 33.2 MB/s \n",
            "\u001b[?25hRequirement already satisfied: chardet<4,>=3.0.2 in /usr/local/lib/python3.7/dist-packages (from requests->boto3sts==0.0.8) (3.0.4)\n",
            "Requirement already satisfied: certifi>=2017.4.17 in /usr/local/lib/python3.7/dist-packages (from requests->boto3sts==0.0.8) (2022.6.15)\n",
            "Requirement already satisfied: idna<3,>=2.5 in /usr/local/lib/python3.7/dist-packages (from requests->boto3sts==0.0.8) (2.10)\n",
            "Building wheels for collected packages: boto3sts\n",
            "  Building wheel for boto3sts (setup.py) ... \u001b[?25l\u001b[?25hdone\n",
            "  Created wheel for boto3sts: filename=boto3sts-0.0.8-py3-none-any.whl size=4677 sha256=7dcf4a7b2f660004115cd0bb756af7db1496b8bb73e74df0fbd01038233c76e7\n",
            "  Stored in directory: /tmp/pip-ephem-wheel-cache-9711clk1/wheels/d6/0e/a8/204df23fe4a288550d10cf9cf744ab143484e177e12982e424\n",
            "Successfully built boto3sts\n",
            "Installing collected packages: urllib3, jmespath, botocore, s3transfer, PyNaCl, xmltodict, liboidcagent, boto3, boto3sts\n",
            "  Attempting uninstall: urllib3\n",
            "    Found existing installation: urllib3 1.24.3\n",
            "    Uninstalling urllib3-1.24.3:\n",
            "      Successfully uninstalled urllib3-1.24.3\n",
            "\u001b[31mERROR: pip's dependency resolver does not currently take into account all the packages that are installed. This behaviour is the source of the following dependency conflicts.\n",
            "datascience 0.10.6 requires folium==0.2.1, but you have folium 0.8.3 which is incompatible.\u001b[0m\n",
            "Successfully installed PyNaCl-1.5.0 boto3-1.24.18 boto3sts-0.0.8 botocore-1.27.18 jmespath-1.0.1 liboidcagent-0.4.0 s3transfer-0.6.0 urllib3-1.25.11 xmltodict-0.13.0\n",
            "Looking in indexes: https://pypi.org/simple, https://us-python.pkg.dev/colab-wheels/public/simple/\n",
            "Collecting https://github.com/CYGNUS-RD/middleware/blob/master/midas/midaslib.tar.gz?raw=true\n",
            "  Downloading https://github.com/CYGNUS-RD/middleware/blob/master/midas/midaslib.tar.gz?raw=true (99 kB)\n",
            "\u001b[K     |████████████████████████████████| 99 kB 2.8 MB/s \n",
            "\u001b[?25hBuilding wheels for collected packages: midas\n",
            "  Building wheel for midas (setup.py) ... \u001b[?25l\u001b[?25hdone\n",
            "  Created wheel for midas: filename=midas-0.0.1-py3-none-any.whl size=49196 sha256=ec0e393cad0986e89d8d5bb0c7003c9172682939608f2c072e609d9972381b3c\n",
            "  Stored in directory: /tmp/pip-ephem-wheel-cache-5r3by474/wheels/3d/82/cc/0c861f3407236618406f016bb0c09ea7cfdc6763ac1bf30d87\n",
            "Successfully built midas\n",
            "Installing collected packages: midas\n",
            "Successfully installed midas-0.0.1\n",
            "Looking in indexes: https://pypi.org/simple, https://us-python.pkg.dev/colab-wheels/public/simple/\n",
            "Collecting git+https://github.com/CYGNUS-RD/cygno.git\n",
            "  Cloning https://github.com/CYGNUS-RD/cygno.git to /tmp/pip-req-build-hy4taln1\n",
            "  Running command git clone -q https://github.com/CYGNUS-RD/cygno.git /tmp/pip-req-build-hy4taln1\n",
            "Requirement already satisfied: boto3 in /usr/local/lib/python3.7/dist-packages (from cygno==1.0.6) (1.24.18)\n",
            "Requirement already satisfied: boto3sts in /usr/local/lib/python3.7/dist-packages (from cygno==1.0.6) (0.0.8)\n",
            "Requirement already satisfied: requests in /usr/local/lib/python3.7/dist-packages (from cygno==1.0.6) (2.23.0)\n",
            "Requirement already satisfied: pandas in /usr/local/lib/python3.7/dist-packages (from cygno==1.0.6) (1.3.5)\n",
            "Requirement already satisfied: botocore in /usr/local/lib/python3.7/dist-packages (from cygno==1.0.6) (1.27.18)\n",
            "Requirement already satisfied: matplotlib in /usr/local/lib/python3.7/dist-packages (from cygno==1.0.6) (3.2.2)\n",
            "Requirement already satisfied: tqdm in /usr/local/lib/python3.7/dist-packages (from cygno==1.0.6) (4.64.0)\n",
            "Requirement already satisfied: jmespath<2.0.0,>=0.7.1 in /usr/local/lib/python3.7/dist-packages (from boto3->cygno==1.0.6) (1.0.1)\n",
            "Requirement already satisfied: s3transfer<0.7.0,>=0.6.0 in /usr/local/lib/python3.7/dist-packages (from boto3->cygno==1.0.6) (0.6.0)\n",
            "Requirement already satisfied: python-dateutil<3.0.0,>=2.1 in /usr/local/lib/python3.7/dist-packages (from botocore->cygno==1.0.6) (2.8.2)\n",
            "Requirement already satisfied: urllib3<1.27,>=1.25.4 in /usr/local/lib/python3.7/dist-packages (from botocore->cygno==1.0.6) (1.25.11)\n",
            "Requirement already satisfied: six>=1.5 in /usr/local/lib/python3.7/dist-packages (from python-dateutil<3.0.0,>=2.1->botocore->cygno==1.0.6) (1.15.0)\n",
            "Requirement already satisfied: liboidcagent in /usr/local/lib/python3.7/dist-packages (from boto3sts->cygno==1.0.6) (0.4.0)\n",
            "Requirement already satisfied: future in /usr/local/lib/python3.7/dist-packages (from boto3sts->cygno==1.0.6) (0.16.0)\n",
            "Requirement already satisfied: xmltodict in /usr/local/lib/python3.7/dist-packages (from boto3sts->cygno==1.0.6) (0.13.0)\n",
            "Requirement already satisfied: PyNaCl>=1.2.0 in /usr/local/lib/python3.7/dist-packages (from liboidcagent->boto3sts->cygno==1.0.6) (1.5.0)\n",
            "Requirement already satisfied: cffi>=1.4.1 in /usr/local/lib/python3.7/dist-packages (from PyNaCl>=1.2.0->liboidcagent->boto3sts->cygno==1.0.6) (1.15.0)\n",
            "Requirement already satisfied: pycparser in /usr/local/lib/python3.7/dist-packages (from cffi>=1.4.1->PyNaCl>=1.2.0->liboidcagent->boto3sts->cygno==1.0.6) (2.21)\n",
            "Requirement already satisfied: kiwisolver>=1.0.1 in /usr/local/lib/python3.7/dist-packages (from matplotlib->cygno==1.0.6) (1.4.3)\n",
            "Requirement already satisfied: numpy>=1.11 in /usr/local/lib/python3.7/dist-packages (from matplotlib->cygno==1.0.6) (1.21.6)\n",
            "Requirement already satisfied: pyparsing!=2.0.4,!=2.1.2,!=2.1.6,>=2.0.1 in /usr/local/lib/python3.7/dist-packages (from matplotlib->cygno==1.0.6) (3.0.9)\n",
            "Requirement already satisfied: cycler>=0.10 in /usr/local/lib/python3.7/dist-packages (from matplotlib->cygno==1.0.6) (0.11.0)\n",
            "Requirement already satisfied: typing-extensions in /usr/local/lib/python3.7/dist-packages (from kiwisolver>=1.0.1->matplotlib->cygno==1.0.6) (4.1.1)\n",
            "Requirement already satisfied: pytz>=2017.3 in /usr/local/lib/python3.7/dist-packages (from pandas->cygno==1.0.6) (2022.1)\n",
            "Requirement already satisfied: idna<3,>=2.5 in /usr/local/lib/python3.7/dist-packages (from requests->cygno==1.0.6) (2.10)\n",
            "Requirement already satisfied: chardet<4,>=3.0.2 in /usr/local/lib/python3.7/dist-packages (from requests->cygno==1.0.6) (3.0.4)\n",
            "Requirement already satisfied: certifi>=2017.4.17 in /usr/local/lib/python3.7/dist-packages (from requests->cygno==1.0.6) (2022.6.15)\n",
            "Building wheels for collected packages: cygno\n",
            "  Building wheel for cygno (setup.py) ... \u001b[?25l\u001b[?25hdone\n",
            "  Created wheel for cygno: filename=cygno-1.0.6-py3-none-any.whl size=19734 sha256=0db15b9d2a1ebc9409ffc5e56a4a6b8fedd2b0fcc461a1a5ae5517727878805c\n",
            "  Stored in directory: /tmp/pip-ephem-wheel-cache-qkje9v7r/wheels/27/54/3f/088be0ddf2c8e8f9d4d6226c01b80c301e7997880a4e634717\n",
            "Successfully built cygno\n",
            "Installing collected packages: cygno\n",
            "Successfully installed cygno-1.0.6\n"
          ]
        }
      ],
      "source": [
        "!pip install git+https://github.com/DODAS-TS/boto3sts\n",
        "!pip install 'https://github.com/CYGNUS-RD/middleware/blob/master/midas/midaslib.tar.gz?raw=true'\n",
        "!pip install git+https://github.com/CYGNUS-RD/cygno.git -U"
      ]
    },
    {
      "cell_type": "code",
      "source": [
        "# Reads images from an array and combines them.\n",
        "# Generate a normalized composite image.\n",
        "# Input: run number, path\n",
        "# Output: normalized composite image, number of frames used to generate said image.\n",
        "# Note: Needs manual checking of shape of array to set up \"image\" variable.\n",
        "\n",
        "import midas.file_reader\n",
        "from datetime import datetime\n",
        "import numpy as np\n",
        "from matplotlib import pyplot as plt\n",
        "import cygno as cy\n",
        "\n",
        "def ped_array(run_, path_ = '/tmp/', cloud_ = True, tag_ = 'STD', verbose_ = True):\n",
        "\n",
        "    mfile = cy.open_mid(run=run_, path=path_, cloud=cloud_, tag=tag_, verbose=verbose_)\n",
        "    foutm_name = (path_+\"mean_Run{:05d}\".format(run_))\n",
        "    fouts_name = (path_+\"sigma_Run{:05d}\".format(run_))\n",
        "    \n",
        "    noFrame = 0\n",
        "    #shape of the images array (23004,2304)\n",
        "    m_image = np.zeros((2304,2304)) # average value of frames\n",
        "    s_image = np.zeros((2304,2304)) # root mean square of frames\n",
        "    for event in mfile:\n",
        "        if event.header.is_midas_internal_event():\n",
        "            print(\"Saw a special event\")\n",
        "            continue\n",
        "\n",
        "        bank_names = \", \".join(b.name for b in event.banks.values())\n",
        "        print(\"Event # %s of type ID %s contains banks %s\" % (event.header.serial_number, event.header.event_id, bank_names))\n",
        "        print(\"Received event with timestamp %s containing banks %s\" % (event.header.timestamp, bank_names))\n",
        "        print(\"%s, banks %s\" % (datetime.utcfromtimestamp(event.header.timestamp).strftime('%Y-%m-%d %H:%M:%S'), bank_names))\n",
        "\n",
        "        if noFrame >= 3: break # Limit the frames produced for ease of debugging\n",
        "        for bank_name, bank in event.banks.items():\n",
        "            if bank_name=='DGH0': # PMTs wavform \n",
        "                header = cy.daq_dgz2header(bank)\n",
        "                print (header)\n",
        "                waveform = cy.daq_dgz2array(event.banks['DIG0'], header)\n",
        "            if bank_name=='CAM0': # CAM image\n",
        "                imageFrame, _, _ = cy.daq_cam2array(bank)\n",
        "                m_image = np.add(m_image, imageFrame)\n",
        "                s_image = np.add(s_image, imageFrame**2)\n",
        "                # plt.figure(figsize=(8,8))\n",
        "                # plt.imshow(imageFrame, vmin=95, vmax=115)\n",
        "                # plt.title(\"Frame %s\" %i)\n",
        "                # plt.show()\n",
        "                noFrame += 1\n",
        "            if bank_name=='INPT': # SLOW channels array\n",
        "                slow = cy.daq_slow2array(bank)\n",
        "\n",
        "    m_image = m_image/noFrame\n",
        "    np.save(foutm_name, m_image)\n",
        "\n",
        "    s_image = np.sqrt((s_image - m_image**2 * noFrame)/(noFrame - 1))\n",
        "    print(s_image)\n",
        "\n",
        "\n",
        "    plt.figure(figsize=(8,8))\n",
        "    plt.imshow(s_image, vmin=70, vmax=105)\n",
        "    plt.title(\"Normalized RMS frame with %s frames\" %noFrame)\n",
        "    plt.show()\n",
        "\n",
        "    return m_image, noFrame\n",
        "\n",
        "\n",
        "pedestal, noFrame = ped_array(1403)\n",
        "# plt.figure(figsize=(8,8))\n",
        "# plt.imshow(pedestal, vmin=95, vmax=115)\n",
        "# plt.title(\"Normalized composite frame with %s frames\" %noFrame)\n",
        "# plt.show()"
      ],
      "metadata": {
        "colab": {
          "base_uri": "https://localhost:8080/",
          "height": 1000
        },
        "id": "zBArCVM4MCPO",
        "outputId": "523ffed4-2d5d-4b1a-a681-4ac685170932"
      },
      "execution_count": 25,
      "outputs": [
        {
          "output_type": "stream",
          "name": "stdout",
          "text": [
            "https://s3.cloud.infn.it/v1/AUTH_2ebf769785574195bde2ff418deac08a/cygno-data/STD/run01403.mid.gz\n",
            "https://s3.cloud.infn.it/v1/AUTH_2ebf769785574195bde2ff418deac08a/cygno-data/STD/run01403.mid.gz\n",
            "Saw a special event\n",
            "Event # 0 of type ID 3 contains banks DMND, MSRD, CRNT, STAT, TPTR\n",
            "Received event with timestamp 1655212351 containing banks DMND, MSRD, CRNT, STAT, TPTR\n",
            "2022-06-14 13:12:31, banks DMND, MSRD, CRNT, STAT, TPTR\n",
            "Event # 0 of type ID 4 contains banks DMND, MSRD, CRNT, STAT, TPTR\n",
            "Received event with timestamp 1655212351 containing banks DMND, MSRD, CRNT, STAT, TPTR\n",
            "2022-06-14 13:12:31, banks DMND, MSRD, CRNT, STAT, TPTR\n",
            "Event # 0 of type ID 6 contains banks DMND, MSRD\n",
            "Received event with timestamp 1655212351 containing banks DMND, MSRD\n",
            "2022-06-14 13:12:31, banks DMND, MSRD\n",
            "Event # 0 of type ID 1 contains banks CAM0\n",
            "Received event with timestamp 1655212352 containing banks CAM0\n",
            "2022-06-14 13:12:32, banks CAM0\n"
          ]
        },
        {
          "output_type": "stream",
          "name": "stderr",
          "text": [
            "file /tmp/run01403.mid.gz cached"
          ]
        },
        {
          "output_type": "stream",
          "name": "stdout",
          "text": [
            "Event # 1 of type ID 1 contains banks CAM0\n",
            "Received event with timestamp 1655212353 containing banks CAM0\n",
            "2022-06-14 13:12:33, banks CAM0\n",
            "Event # 2 of type ID 1 contains banks CAM0\n",
            "Received event with timestamp 1655212354 containing banks CAM0\n",
            "2022-06-14 13:12:34, banks CAM0\n",
            "Event # 3 of type ID 1 contains banks CAM0\n",
            "Received event with timestamp 1655212354 containing banks CAM0\n",
            "2022-06-14 13:12:34, banks CAM0\n",
            "[[ 1.15470054  2.64575131  5.85946528 ...  6.5064071  10.96965511\n",
            "   6.55743852]\n",
            " [13.0511813   8.14452782  6.65832812 ...  5.50757055  9.8488578\n",
            "   4.61880215]\n",
            " [ 7.3711148   2.88675135 18.1934054  ...  3.         13.31665624\n",
            "   9.        ]\n",
            " ...\n",
            " [ 2.88675135  4.04145188  7.23417814 ...  8.96288644  6.42910051\n",
            "   5.6862407 ]\n",
            " [11.93035345  6.244998   13.         ...  2.64575131  7.23417814\n",
            "   8.54400375]\n",
            " [10.11599394  7.09459888  6.5064071  ...  3.          3.51188458\n",
            "   6.        ]]\n"
          ]
        },
        {
          "output_type": "display_data",
          "data": {
            "text/plain": [
              "<Figure size 576x576 with 1 Axes>"
            ],
            "image/png": "[encoded data removed]"
          },
          "metadata": {
            "needs_background": "light"
          }
        }
      ]
    },
    {
      "cell_type": "code",
      "source": [
        ""
      ],
      "metadata": {
        "id": "aPShMVsiNDGm"
      },
      "execution_count": null,
      "outputs": []
    }
  ]
}